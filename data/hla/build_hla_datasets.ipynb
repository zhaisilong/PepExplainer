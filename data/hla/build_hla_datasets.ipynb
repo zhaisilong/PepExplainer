{
 "cells": [
  {
   "cell_type": "code",
   "execution_count": 10,
   "metadata": {},
   "outputs": [],
   "source": [
    "import pandas as pd\n",
    "from pathlib import Path"
   ]
  },
  {
   "cell_type": "code",
   "execution_count": 11,
   "metadata": {},
   "outputs": [],
   "source": [
    "fold = 0\n",
    "DATA_DIR = Path(\".\")\n",
    "train_data_path = DATA_DIR / f\"train_data_fold{fold}.csv\"\n",
    "valid_data_path = DATA_DIR / f\"val_data_fold{fold}.csv\""
   ]
  },
  {
   "cell_type": "code",
   "execution_count": 12,
   "metadata": {},
   "outputs": [
    {
     "data": {
      "text/html": [
       "<div>\n",
       "<style scoped>\n",
       "    .dataframe tbody tr th:only-of-type {\n",
       "        vertical-align: middle;\n",
       "    }\n",
       "\n",
       "    .dataframe tbody tr th {\n",
       "        vertical-align: top;\n",
       "    }\n",
       "\n",
       "    .dataframe thead th {\n",
       "        text-align: right;\n",
       "    }\n",
       "</style>\n",
       "<table border=\"1\" class=\"dataframe\">\n",
       "  <thead>\n",
       "    <tr style=\"text-align: right;\">\n",
       "      <th></th>\n",
       "      <th>peptide</th>\n",
       "      <th>length</th>\n",
       "      <th>HLA</th>\n",
       "      <th>label</th>\n",
       "      <th>HLA_sequence</th>\n",
       "    </tr>\n",
       "  </thead>\n",
       "  <tbody>\n",
       "    <tr>\n",
       "      <th>0</th>\n",
       "      <td>FLTGTFVTA</td>\n",
       "      <td>9</td>\n",
       "      <td>HLA-A*24:02</td>\n",
       "      <td>0</td>\n",
       "      <td>YSAMYEEKVAHTDENIAYLMFHYYTWAVQAYTGY</td>\n",
       "    </tr>\n",
       "    <tr>\n",
       "      <th>1</th>\n",
       "      <td>HRKVMSQNF</td>\n",
       "      <td>9</td>\n",
       "      <td>HLA-B*27:05</td>\n",
       "      <td>1</td>\n",
       "      <td>YHTEYREICAKTDEDTLYLNYHDYTWAVLAYEWY</td>\n",
       "    </tr>\n",
       "    <tr>\n",
       "      <th>2</th>\n",
       "      <td>VMDKYILDN</td>\n",
       "      <td>9</td>\n",
       "      <td>HLA-B*44:03</td>\n",
       "      <td>0</td>\n",
       "      <td>YYTKYREISTNTYENTAYIRYDDYTWAVLAYLSY</td>\n",
       "    </tr>\n",
       "    <tr>\n",
       "      <th>3</th>\n",
       "      <td>MTFDGEVKT</td>\n",
       "      <td>9</td>\n",
       "      <td>HLA-B*15:01</td>\n",
       "      <td>0</td>\n",
       "      <td>YYAMYREISTNTYESNLYLRYDSYTWAEWAYLWY</td>\n",
       "    </tr>\n",
       "    <tr>\n",
       "      <th>4</th>\n",
       "      <td>CLLTPGVQG</td>\n",
       "      <td>9</td>\n",
       "      <td>HLA-A*03:01</td>\n",
       "      <td>0</td>\n",
       "      <td>YFAMYQENVAQTDVDTLYIIYRDYTWAELAYTWY</td>\n",
       "    </tr>\n",
       "  </tbody>\n",
       "</table>\n",
       "</div>"
      ],
      "text/plain": [
       "     peptide  length          HLA  label                        HLA_sequence\n",
       "0  FLTGTFVTA       9  HLA-A*24:02      0  YSAMYEEKVAHTDENIAYLMFHYYTWAVQAYTGY\n",
       "1  HRKVMSQNF       9  HLA-B*27:05      1  YHTEYREICAKTDEDTLYLNYHDYTWAVLAYEWY\n",
       "2  VMDKYILDN       9  HLA-B*44:03      0  YYTKYREISTNTYENTAYIRYDDYTWAVLAYLSY\n",
       "3  MTFDGEVKT       9  HLA-B*15:01      0  YYAMYREISTNTYESNLYLRYDSYTWAEWAYLWY\n",
       "4  CLLTPGVQG       9  HLA-A*03:01      0  YFAMYQENVAQTDVDTLYIIYRDYTWAELAYTWY"
      ]
     },
     "execution_count": 12,
     "metadata": {},
     "output_type": "execute_result"
    }
   ],
   "source": [
    "# 读取 train_valid 并合并\n",
    "df_train = pd.read_csv(train_data_path, index_col= 0)\n",
    "df_valid = pd.read_csv(valid_data_path, index_col= 0)\n",
    "df = pd.concat([df_train,  df_valid])\n",
    "df.head()"
   ]
  },
  {
   "cell_type": "code",
   "execution_count": 13,
   "metadata": {},
   "outputs": [
    {
     "name": "stdout",
     "output_type": "stream",
     "text": [
      "718332\n",
      "HLA\n",
      "HLA-B*27:05    73340\n",
      "HLA-A*02:01    48066\n",
      "HLA-B*15:01    27616\n",
      "HLA-B*07:02    25966\n",
      "HLA-B*57:01    23916\n",
      "Name: count, dtype: int64\n"
     ]
    }
   ],
   "source": [
    "print(len(df))\n",
    "print(df[\"HLA\"].value_counts()[:5])"
   ]
  },
  {
   "cell_type": "code",
   "execution_count": 14,
   "metadata": {},
   "outputs": [
    {
     "name": "stdout",
     "output_type": "stream",
     "text": [
      "13674 13674\n",
      "9 [5125, 5125]\n",
      "10 [1437, 1437]\n",
      "11 [213, 213]\n",
      "12 [62, 62]\n"
     ]
    }
   ],
   "source": [
    "df_most = df[df[\"HLA\"] == \"HLA-A*68:01\"]\n",
    "df_most_unique = df_most.drop_duplicates(subset=[\"peptide\"])\n",
    "print(len(df_most), len(df_most_unique))\n",
    "\n",
    "for length, group in df_most.groupby(by=\"length\"):\n",
    "    print(length, group[\"label\"].value_counts().to_list())"
   ]
  },
  {
   "cell_type": "code",
   "execution_count": 15,
   "metadata": {},
   "outputs": [
    {
     "name": "stdout",
     "output_type": "stream",
     "text": [
      "10940 2734 3405 17079\n"
     ]
    }
   ],
   "source": [
    "for fold in range(5):\n",
    "    train_path = DATA_DIR / f\"train_data_fold{fold}.csv\"\n",
    "    val_path = DATA_DIR / f\"val_data_fold{fold}.csv\"\n",
    "    test_path = DATA_DIR / f\"independent_set.csv\"\n",
    "    df_train = pd.read_csv(train_path, index_col=0)\n",
    "    df_train[\"group\"] = \"train\"\n",
    "    df_train = df_train[df_train[\"HLA\"] == \"HLA-A*68:01\"]\n",
    "    df_valid = pd.read_csv(val_path, index_col=0)\n",
    "    df_valid[\"group\"] = \"valid\"\n",
    "    df_valid = df_valid[df_valid[\"HLA\"] == \"HLA-A*68:01\"]\n",
    "    df_test = pd.read_csv(test_path, index_col=0)\n",
    "    df_test[\"group\"] = \"test\"\n",
    "    df_test = df_test[df_test[\"HLA\"] == \"HLA-A*68:01\"]\n",
    "    df = pd.concat([df_train, df_valid, df_test])\n",
    "    df = df[df[\"HLA\"] == \"HLA-A*68:01\"]\n",
    "    df_save = pd.DataFrame({\n",
    "        \"peptide\": df[\"peptide\"],\n",
    "        \"target\": df[\"label\"],\n",
    "        \"group\": df[\"group\"]\n",
    "    })\n",
    "    print(len(df_train), len(df_valid), len(df_test), len(df_save))\n",
    "    df_save.to_csv(DATA_DIR / \"origin_data/hla.csv\", index=None)\n",
    "    break"
   ]
  },
  {
   "cell_type": "code",
   "execution_count": null,
   "metadata": {},
   "outputs": [],
   "source": []
  }
 ],
 "metadata": {
  "kernelspec": {
   "display_name": "base",
   "language": "python",
   "name": "python3"
  },
  "language_info": {
   "codemirror_mode": {
    "name": "ipython",
    "version": 3
   },
   "file_extension": ".py",
   "mimetype": "text/x-python",
   "name": "python",
   "nbconvert_exporter": "python",
   "pygments_lexer": "ipython3",
   "version": "3.9.19"
  }
 },
 "nbformat": 4,
 "nbformat_minor": 2
}
