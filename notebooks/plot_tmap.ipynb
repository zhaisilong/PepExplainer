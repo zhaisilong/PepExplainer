{
 "cells": [
  {
   "cell_type": "code",
   "execution_count": 1,
   "metadata": {},
   "outputs": [],
   "source": [
    "import numpy as np\n",
    "import tmap as tm\n",
    "import pandas as pd\n",
    "from faerun import Faerun\n",
    "from matplotlib import pyplot as plt\n",
    "import dill\n",
    "from core.models import AME\n",
    "from core.utils import get_label, get_seg, Peptide\n",
    "from functools import partial\n",
    "from tqdm.auto import trange, tqdm"
   ]
  },
  {
   "cell_type": "code",
   "execution_count": 2,
   "metadata": {},
   "outputs": [
    {
     "name": "stdout",
     "output_type": "stream",
     "text": [
      "Args: {'task': 'enrich_reg', 'sub_type': 'aa', 'data_name': 'del2_reg', 'label_name': 'target', 'peptide_name': 'peptide', 'methods': 'thioether', 'max_workers': 16, 'origin_data_dir': '../data/origin_data', 'graph_data_dir': '../data/graph_data', 'prediction_dir': '../prediction', 'in_feats': 40, 'max_evals': 30, 'loop': True, 'device': 'cuda', 'rgcn_hidden_feats': [64, 64, 64, 64], 'ffn_hidden_feats': 128, 'rgcn_drop_out': 0.05, 'ffn_drop_out': 0.05, 'lr': 0.001, 'mode': 'higher', 'metric_name': 'r2', 'classification': False, 'batch_size': 2048, 'patience': 40}\n"
     ]
    }
   ],
   "source": [
    "ame = AME()"
   ]
  },
  {
   "cell_type": "code",
   "execution_count": 4,
   "metadata": {},
   "outputs": [],
   "source": [
    "# 根据正太分布对 del2 进行下采样\n",
    "df = pd.read_csv(\"../data/origin_data/del2_reg.csv\")\n",
    "\n",
    "df[\"enrich\"] = df[\"target\"].apply(lambda x: 10**x)\n",
    "df[\"seg\"] = df[\"enrich\"].apply(get_seg)\n",
    "df[\"label\"] = df[\"enrich\"].apply(partial(get_label, threshold=140))"
   ]
  },
  {
   "cell_type": "code",
   "execution_count": 5,
   "metadata": {},
   "outputs": [
    {
     "data": {
      "application/vnd.jupyter.widget-view+json": {
       "model_id": "494a671b7b274f3083094f3edeeaa6f6",
       "version_major": 2,
       "version_minor": 0
      },
      "text/plain": [
       "  0%|          | 0/18429 [00:00<?, ?it/s]"
      ]
     },
     "metadata": {},
     "output_type": "display_data"
    }
   ],
   "source": [
    "labels =  [] \n",
    "\n",
    "for i, row in tqdm(df.iterrows(), total=len(df)):\n",
    "    seq = row[\"peptide\"]\n",
    "    smi = Peptide(seq, methods=\"thioether\").smiles\n",
    "    labels.append(\n",
    "                str(smi)\n",
    "                + \"__name: \"\n",
    "                + str(seq)\n",
    "                + f\"__enrich: {row['enrich']}\"\n",
    "                + f\"__label: {row['seg']}\"\n",
    "            )"
   ]
  },
  {
   "cell_type": "code",
   "execution_count": 6,
   "metadata": {},
   "outputs": [
    {
     "data": {
      "text/html": [
       "<div>\n",
       "<style scoped>\n",
       "    .dataframe tbody tr th:only-of-type {\n",
       "        vertical-align: middle;\n",
       "    }\n",
       "\n",
       "    .dataframe tbody tr th {\n",
       "        vertical-align: top;\n",
       "    }\n",
       "\n",
       "    .dataframe thead th {\n",
       "        text-align: right;\n",
       "    }\n",
       "</style>\n",
       "<table border=\"1\" class=\"dataframe\">\n",
       "  <thead>\n",
       "    <tr style=\"text-align: right;\">\n",
       "      <th></th>\n",
       "      <th>peptide</th>\n",
       "      <th>target</th>\n",
       "      <th>group</th>\n",
       "      <th>enrich</th>\n",
       "      <th>seg</th>\n",
       "      <th>label</th>\n",
       "    </tr>\n",
       "  </thead>\n",
       "  <tbody>\n",
       "    <tr>\n",
       "      <th>0</th>\n",
       "      <td>HWYYVQHYGNLG</td>\n",
       "      <td>0.000000</td>\n",
       "      <td>train</td>\n",
       "      <td>1.0</td>\n",
       "      <td>0</td>\n",
       "      <td>1</td>\n",
       "    </tr>\n",
       "    <tr>\n",
       "      <th>1</th>\n",
       "      <td>HLYYRTLYGLLG</td>\n",
       "      <td>2.860338</td>\n",
       "      <td>train</td>\n",
       "      <td>725.0</td>\n",
       "      <td>2</td>\n",
       "      <td>0</td>\n",
       "    </tr>\n",
       "    <tr>\n",
       "      <th>2</th>\n",
       "      <td>HVYYRHLYADLG</td>\n",
       "      <td>0.000000</td>\n",
       "      <td>train</td>\n",
       "      <td>1.0</td>\n",
       "      <td>0</td>\n",
       "      <td>1</td>\n",
       "    </tr>\n",
       "    <tr>\n",
       "      <th>3</th>\n",
       "      <td>HKYYYMLYGHLG</td>\n",
       "      <td>1.278754</td>\n",
       "      <td>train</td>\n",
       "      <td>19.0</td>\n",
       "      <td>1</td>\n",
       "      <td>1</td>\n",
       "    </tr>\n",
       "    <tr>\n",
       "      <th>4</th>\n",
       "      <td>HYYYRSLYGTLG</td>\n",
       "      <td>2.498311</td>\n",
       "      <td>train</td>\n",
       "      <td>315.0</td>\n",
       "      <td>2</td>\n",
       "      <td>0</td>\n",
       "    </tr>\n",
       "  </tbody>\n",
       "</table>\n",
       "</div>"
      ],
      "text/plain": [
       "        peptide    target  group  enrich  seg  label\n",
       "0  HWYYVQHYGNLG  0.000000  train     1.0    0      1\n",
       "1  HLYYRTLYGLLG  2.860338  train   725.0    2      0\n",
       "2  HVYYRHLYADLG  0.000000  train     1.0    0      1\n",
       "3  HKYYYMLYGHLG  1.278754  train    19.0    1      1\n",
       "4  HYYYRSLYGTLG  2.498311  train   315.0    2      0"
      ]
     },
     "execution_count": 6,
     "metadata": {},
     "output_type": "execute_result"
    }
   ],
   "source": [
    "# df = df.sample(frac=0.1, random_state=42)\n",
    "# df = df.head(n=10000)\n",
    "df.head()"
   ]
  },
  {
   "cell_type": "code",
   "execution_count": 21,
   "metadata": {},
   "outputs": [
    {
     "data": {
      "application/vnd.jupyter.widget-view+json": {
       "model_id": "4e14dccb72364ce8a2f8984daa2d5aaa",
       "version_major": 2,
       "version_minor": 0
      },
      "text/plain": [
       "  0%|          | 0/5120 [00:00<?, ?it/s]"
      ]
     },
     "metadata": {},
     "output_type": "display_data"
    },
    {
     "name": "stderr",
     "output_type": "stream",
     "text": [
      "/home/light/mambaforge/envs/sme/lib/python3.9/site-packages/dgl/heterograph.py:92: DGLWarning: Recommend creating graphs by `dgl.graph(data)` instead of `dgl.DGLGraph(data)`.\n",
      "  dgl_warning(\n"
     ]
    },
    {
     "data": {
      "application/vnd.jupyter.widget-view+json": {
       "model_id": "99a27648e7404057a20de227b2c5100d",
       "version_major": 2,
       "version_minor": 0
      },
      "text/plain": [
       "  0%|          | 0/5120 [00:00<?, ?it/s]"
      ]
     },
     "metadata": {},
     "output_type": "display_data"
    },
    {
     "data": {
      "application/vnd.jupyter.widget-view+json": {
       "model_id": "fa042b7628504214a58beec0303a0186",
       "version_major": 2,
       "version_minor": 0
      },
      "text/plain": [
       "  0%|          | 0/5120 [00:00<?, ?it/s]"
      ]
     },
     "metadata": {},
     "output_type": "display_data"
    },
    {
     "data": {
      "application/vnd.jupyter.widget-view+json": {
       "model_id": "c7c4805ce66f412f8e004b810e19af13",
       "version_major": 2,
       "version_minor": 0
      },
      "text/plain": [
       "  0%|          | 0/3069 [00:00<?, ?it/s]"
      ]
     },
     "metadata": {},
     "output_type": "display_data"
    }
   ],
   "source": [
    "batch_size = 1024*5\n",
    "# Assuming df.seq is a list or array of sequences that you want to process.\n",
    "# And also assuming that each call to ame.get_embedding returns a fixed-size vector.\n",
    "\n",
    "# Preallocate the list if you know the embedding size, e.g., embedding_size = 128\n",
    "embedding_size = 64  # Example size, change it to your actual embedding size.\n",
    "Xs = np.zeros((len(df[\"peptide\"]), embedding_size))\n",
    "\n",
    "for i in range(0, len(df[\"peptide\"]), batch_size):\n",
    "    batch_seqs = df[\"peptide\"][i:i+batch_size]\n",
    "    embeddings = ame.get_embedding(batch_seqs)\n",
    "    Xs[i:i+batch_size] = embeddings\n",
    "\n",
    "# Convert list of arrays into a 3D numpy array\n",
    "# If each embedding is 2D, then X will be a 3D array\n",
    "X = np.array(Xs)"
   ]
  },
  {
   "cell_type": "code",
   "execution_count": 22,
   "metadata": {},
   "outputs": [],
   "source": [
    "with open(\"../tmp/tmap-del2_reg.pkl\", \"wb+\") as f:\n",
    "    dill.dump(X, f)"
   ]
  },
  {
   "cell_type": "code",
   "execution_count": 2,
   "metadata": {},
   "outputs": [],
   "source": [
    "with open(\"../tmp/tmap-del2_reg.pkl\", \"rb+\") as f:\n",
    "    X = dill.load(f)"
   ]
  },
  {
   "cell_type": "code",
   "execution_count": 8,
   "metadata": {},
   "outputs": [
    {
     "name": "stderr",
     "output_type": "stream",
     "text": [
      "/tmp/ipykernel_2076578/3848182218.py:33: MatplotlibDeprecationWarning: The get_cmap function was deprecated in Matplotlib 3.7 and will be removed two minor releases later. Use ``matplotlib.colormaps[name]`` or ``matplotlib.colormaps.get_cmap(obj)`` instead.\n",
      "  tab_10 = plt.cm.get_cmap(\"tab10\")\n"
     ]
    },
    {
     "data": {
      "text/html": [
       "\n",
       "        <iframe\n",
       "            width=\"100%\"\n",
       "            height=\"500\"\n",
       "            src=\"./index.html\"\n",
       "            frameborder=\"0\"\n",
       "            allowfullscreen\n",
       "            \n",
       "        ></iframe>\n",
       "        "
      ],
      "text/plain": [
       "<IPython.lib.display.IFrame at 0x7fcfe65b5520>"
      ]
     },
     "metadata": {},
     "output_type": "display_data"
    },
    {
     "data": {
      "text/html": [
       "<a href='./index.html' target='_blank'>./index.html</a><br>"
      ],
      "text/plain": [
       "/home/light/zsl/sme.v3/notebooks/index.html"
      ]
     },
     "metadata": {},
     "output_type": "display_data"
    }
   ],
   "source": [
    "def prepare_data(X, df):\n",
    "    \"\"\"Prepare data for further operations.\"\"\"\n",
    "    fps = [tm.VectorFloat(x.tolist()) for x in X.astype(np.int32)]\n",
    "    data = [tm.VectorFloat(x) for x in X]\n",
    "    data = enc.batch_from_weight_array(data)\n",
    "    return fps, data\n",
    "\n",
    "def configure_layout(cfg):\n",
    "    \"\"\"Configure the layout.\"\"\"\n",
    "    cfg.node_size = 1 / 20\n",
    "    cfg.mmm_repeats = 2\n",
    "    cfg.sl_extra_scaling_steps = 5\n",
    "    cfg.k = 36\n",
    "    cfg.sl_scaling_type = tm.RelativeToAvgLength\n",
    "\n",
    "# Initialize encoders and structures\n",
    "enc = tm.Minhash(64)\n",
    "lf = tm.LSHForest(64, 64)\n",
    "\n",
    "# Prepare data\n",
    "fps, data = prepare_data(X, df)\n",
    "\n",
    "# Update LSH Forest\n",
    "lf.batch_add(data)\n",
    "lf.index()\n",
    "\n",
    "# Configure layout\n",
    "cfg = tm.LayoutConfiguration()\n",
    "configure_layout(cfg)\n",
    "x, y, s, t, _ = tm.layout_from_lsh_forest(lf, cfg)\n",
    "\n",
    "# Adjust colormap\n",
    "tab_10 = plt.cm.get_cmap(\"tab10\")\n",
    "\n",
    "# Create categories\n",
    "type_labels, type_data = Faerun.create_categories(df[\"label\"])\n",
    "genera_labels, genera_data = Faerun.create_categories(df[\"seg\"])\n",
    "\n",
    "# Plotting\n",
    "f = Faerun(view=\"front\", coords=False, clear_color=\"#FFFFFF\")\n",
    "f.add_scatter(\n",
    "    \"np_atlas\",\n",
    "    {\n",
    "        \"x\": x,\n",
    "        \"y\": y,\n",
    "        \"c\": [type_data, genera_data, df[\"enrich\"].tolist()],\n",
    "        \"labels\": labels,\n",
    "    },\n",
    "    shader=\"smoothCircle\",\n",
    "    point_scale=2.0,\n",
    "    max_point_size=20,\n",
    "    legend_labels=[type_labels, genera_labels],\n",
    "    categorical=[True, True, False],\n",
    "    colormap=[tab_10, tab_10, \"rainbow\"],\n",
    "    series_title=[\"Label\", \"Seg\", \"IC 50\"],\n",
    "    has_legend=True,\n",
    ")\n",
    "f.add_tree(\"peptide_atlas_tree\", {\"from\": s, \"to\": t}, point_helper=\"np_atlas\")\n",
    "f.plot(template=\"smiles\")"
   ]
  },
  {
   "cell_type": "code",
   "execution_count": null,
   "metadata": {},
   "outputs": [],
   "source": []
  }
 ],
 "metadata": {
  "kernelspec": {
   "display_name": "sme",
   "language": "python",
   "name": "python3"
  },
  "language_info": {
   "codemirror_mode": {
    "name": "ipython",
    "version": 3
   },
   "file_extension": ".py",
   "mimetype": "text/x-python",
   "name": "python",
   "nbconvert_exporter": "python",
   "pygments_lexer": "ipython3",
   "version": "3.9.18"
  }
 },
 "nbformat": 4,
 "nbformat_minor": 2
}
